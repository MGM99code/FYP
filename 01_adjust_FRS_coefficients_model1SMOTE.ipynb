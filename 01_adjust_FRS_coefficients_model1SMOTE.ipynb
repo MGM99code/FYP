{
 "cells": [
  {
   "cell_type": "code",
   "execution_count": 1,
   "metadata": {},
   "outputs": [],
   "source": [
    "DATA_DIR = '/Users/malithidesilva/fyp'\n",
    "\n",
    "import pandas as pd\n",
    "import os\n",
    "features_list = pd.read_csv(os.path.join(DATA_DIR, 'features_REDISCOVER.csv'))\n",
    "raw_data = pd.read_csv(os.path.join(DATA_DIR, 'REDISCOVER_Rearranged_Cleaned_withNA_withFRS.csv'))"
   ]
  },
  {
   "cell_type": "code",
   "execution_count": 2,
   "metadata": {},
   "outputs": [
    {
     "data": {
      "text/plain": [
       "Index(['Unnamed: 0.1', 'Unnamed: 0', 'patient_ID', 'recruitment_year', 'area',\n",
       "       'gender', 'age', 'age_grp', 'age_dist', 'menopause', 'smoking',\n",
       "       'weight', 'height', 'bmi', 'bps', 'bpd', 'pulse', 'hip', 'waist', 'whr',\n",
       "       'diabetes_b', 'diabetes_med', 'highchol_b', 'chol_med', 'hpt_b',\n",
       "       'heartdisease_b', 'hepatitis_b', 'cancer_b', 'copd_b', 'asthma_b',\n",
       "       'tuberculosis_b', 'malaria_b', 'stroke_b', 'hpt_med', 'stroke_med',\n",
       "       'asthma_med', 'glucose_baseline', 'tc_baseline', 'tg_baseline',\n",
       "       'hdl_baseline', 'ldl_baseline', 'hpt_f', 'diabetes_f', 'heartdisease_f',\n",
       "       'stroke_f', 'cancer_f', 'handgrip_dominant', 'handgrip_nondominant',\n",
       "       'rightarm', 'rightcalf', 'head', 'FEV1', 'FVC', 'PERF', 'FRS_score',\n",
       "       'FRS_outcome', 'outcome', 'follow_up_date', 'year_diff',\n",
       "       'FRS_score_coeff3'],\n",
       "      dtype='object')"
      ]
     },
     "execution_count": 2,
     "metadata": {},
     "output_type": "execute_result"
    }
   ],
   "source": [
    "raw_data.columns"
   ]
  },
  {
   "cell_type": "code",
   "execution_count": 3,
   "metadata": {},
   "outputs": [
    {
     "data": {
      "text/plain": [
       "(11807, 60)"
      ]
     },
     "execution_count": 3,
     "metadata": {},
     "output_type": "execute_result"
    }
   ],
   "source": [
    "raw_data.shape"
   ]
  },
  {
   "cell_type": "code",
   "execution_count": 4,
   "metadata": {},
   "outputs": [],
   "source": [
    "import math\n",
    "def convert_10year_risk_to_3year(risk_10year):\n",
    "    # Calculate the hazard rate from the 10-year risk\n",
    "    hazard_rate = -math.log(1 - risk_10year) / 10\n",
    "    \n",
    "    # Calculate the 3-year risk using the hazard rate\n",
    "    risk_3year = 1 - math.exp(-3 * hazard_rate)\n",
    "    \n",
    "    return risk_3year"
   ]
  },
  {
   "cell_type": "code",
   "execution_count": 5,
   "metadata": {},
   "outputs": [
    {
     "data": {
      "text/plain": [
       "11807"
      ]
     },
     "execution_count": 5,
     "metadata": {},
     "output_type": "execute_result"
    }
   ],
   "source": [
    "len(raw_data['FRS_score'].to_list())"
   ]
  },
  {
   "cell_type": "code",
   "execution_count": 6,
   "metadata": {},
   "outputs": [],
   "source": [
    "total_prob_3years = []\n",
    "\n",
    "for score in raw_data['FRS_score'].to_list():\n",
    "    prob_3years = convert_10year_risk_to_3year(score)\n",
    "    total_prob_3years.append(prob_3years)\n",
    "\n",
    "frs_prob_3years = pd.DataFrame(total_prob_3years, columns=['FRS_score_coeff3'])"
   ]
  },
  {
   "cell_type": "code",
   "execution_count": 7,
   "metadata": {},
   "outputs": [],
   "source": [
    "concatenated = pd.concat([raw_data, frs_prob_3years], axis=1)"
   ]
  },
  {
   "cell_type": "code",
   "execution_count": 8,
   "metadata": {},
   "outputs": [
    {
     "data": {
      "text/plain": [
       "(11807, 61)"
      ]
     },
     "execution_count": 8,
     "metadata": {},
     "output_type": "execute_result"
    }
   ],
   "source": [
    "concatenated.shape"
   ]
  },
  {
   "cell_type": "code",
   "execution_count": 9,
   "metadata": {},
   "outputs": [
    {
     "data": {
      "text/html": [
       "<div>\n",
       "<style scoped>\n",
       "    .dataframe tbody tr th:only-of-type {\n",
       "        vertical-align: middle;\n",
       "    }\n",
       "\n",
       "    .dataframe tbody tr th {\n",
       "        vertical-align: top;\n",
       "    }\n",
       "\n",
       "    .dataframe thead th {\n",
       "        text-align: right;\n",
       "    }\n",
       "</style>\n",
       "<table border=\"1\" class=\"dataframe\">\n",
       "  <thead>\n",
       "    <tr style=\"text-align: right;\">\n",
       "      <th></th>\n",
       "      <th>Unnamed: 0.1</th>\n",
       "      <th>Unnamed: 0</th>\n",
       "      <th>patient_ID</th>\n",
       "      <th>recruitment_year</th>\n",
       "      <th>area</th>\n",
       "      <th>gender</th>\n",
       "      <th>age</th>\n",
       "      <th>age_grp</th>\n",
       "      <th>age_dist</th>\n",
       "      <th>menopause</th>\n",
       "      <th>...</th>\n",
       "      <th>FEV1</th>\n",
       "      <th>FVC</th>\n",
       "      <th>PERF</th>\n",
       "      <th>FRS_score</th>\n",
       "      <th>FRS_outcome</th>\n",
       "      <th>outcome</th>\n",
       "      <th>follow_up_date</th>\n",
       "      <th>year_diff</th>\n",
       "      <th>FRS_score_coeff3</th>\n",
       "      <th>FRS_score_coeff3</th>\n",
       "    </tr>\n",
       "  </thead>\n",
       "  <tbody>\n",
       "    <tr>\n",
       "      <th>0</th>\n",
       "      <td>0</td>\n",
       "      <td>0</td>\n",
       "      <td>tr1_004</td>\n",
       "      <td>2007</td>\n",
       "      <td>2</td>\n",
       "      <td>1</td>\n",
       "      <td>45</td>\n",
       "      <td>2</td>\n",
       "      <td>3</td>\n",
       "      <td>3</td>\n",
       "      <td>...</td>\n",
       "      <td>3.093333</td>\n",
       "      <td>3.183333</td>\n",
       "      <td>611.666667</td>\n",
       "      <td>0.092722</td>\n",
       "      <td>0</td>\n",
       "      <td>0</td>\n",
       "      <td>Not Provided</td>\n",
       "      <td>0</td>\n",
       "      <td>0.028770</td>\n",
       "      <td>0.028770</td>\n",
       "    </tr>\n",
       "    <tr>\n",
       "      <th>1</th>\n",
       "      <td>1</td>\n",
       "      <td>1</td>\n",
       "      <td>tr1_005</td>\n",
       "      <td>2007</td>\n",
       "      <td>2</td>\n",
       "      <td>1</td>\n",
       "      <td>50</td>\n",
       "      <td>2</td>\n",
       "      <td>4</td>\n",
       "      <td>3</td>\n",
       "      <td>...</td>\n",
       "      <td>3.296667</td>\n",
       "      <td>3.736667</td>\n",
       "      <td>322.666667</td>\n",
       "      <td>0.091211</td>\n",
       "      <td>0</td>\n",
       "      <td>0</td>\n",
       "      <td>Not Provided</td>\n",
       "      <td>0</td>\n",
       "      <td>0.028285</td>\n",
       "      <td>0.028285</td>\n",
       "    </tr>\n",
       "    <tr>\n",
       "      <th>2</th>\n",
       "      <td>2</td>\n",
       "      <td>2</td>\n",
       "      <td>tr1_006</td>\n",
       "      <td>2007</td>\n",
       "      <td>2</td>\n",
       "      <td>1</td>\n",
       "      <td>65</td>\n",
       "      <td>2</td>\n",
       "      <td>5</td>\n",
       "      <td>3</td>\n",
       "      <td>...</td>\n",
       "      <td>2.443333</td>\n",
       "      <td>3.403333</td>\n",
       "      <td>400.333333</td>\n",
       "      <td>0.345015</td>\n",
       "      <td>0</td>\n",
       "      <td>0</td>\n",
       "      <td>Not Provided</td>\n",
       "      <td>0</td>\n",
       "      <td>0.119216</td>\n",
       "      <td>0.119216</td>\n",
       "    </tr>\n",
       "    <tr>\n",
       "      <th>3</th>\n",
       "      <td>3</td>\n",
       "      <td>3</td>\n",
       "      <td>tr1_007</td>\n",
       "      <td>2007</td>\n",
       "      <td>2</td>\n",
       "      <td>1</td>\n",
       "      <td>42</td>\n",
       "      <td>2</td>\n",
       "      <td>3</td>\n",
       "      <td>3</td>\n",
       "      <td>...</td>\n",
       "      <td>2.603333</td>\n",
       "      <td>3.070000</td>\n",
       "      <td>411.333333</td>\n",
       "      <td>0.143090</td>\n",
       "      <td>0</td>\n",
       "      <td>0</td>\n",
       "      <td>Not Provided</td>\n",
       "      <td>0</td>\n",
       "      <td>0.045270</td>\n",
       "      <td>0.045270</td>\n",
       "    </tr>\n",
       "    <tr>\n",
       "      <th>4</th>\n",
       "      <td>4</td>\n",
       "      <td>4</td>\n",
       "      <td>tr1_008</td>\n",
       "      <td>2007</td>\n",
       "      <td>2</td>\n",
       "      <td>1</td>\n",
       "      <td>49</td>\n",
       "      <td>2</td>\n",
       "      <td>3</td>\n",
       "      <td>3</td>\n",
       "      <td>...</td>\n",
       "      <td>3.083333</td>\n",
       "      <td>3.750000</td>\n",
       "      <td>612.000000</td>\n",
       "      <td>0.105351</td>\n",
       "      <td>0</td>\n",
       "      <td>0</td>\n",
       "      <td>Not Provided</td>\n",
       "      <td>0</td>\n",
       "      <td>0.032846</td>\n",
       "      <td>0.032846</td>\n",
       "    </tr>\n",
       "  </tbody>\n",
       "</table>\n",
       "<p>5 rows × 61 columns</p>\n",
       "</div>"
      ],
      "text/plain": [
       "   Unnamed: 0.1  Unnamed: 0 patient_ID  recruitment_year  area  gender  age  \\\n",
       "0             0           0    tr1_004              2007     2       1   45   \n",
       "1             1           1    tr1_005              2007     2       1   50   \n",
       "2             2           2    tr1_006              2007     2       1   65   \n",
       "3             3           3    tr1_007              2007     2       1   42   \n",
       "4             4           4    tr1_008              2007     2       1   49   \n",
       "\n",
       "   age_grp  age_dist  menopause  ...      FEV1       FVC        PERF  \\\n",
       "0        2         3          3  ...  3.093333  3.183333  611.666667   \n",
       "1        2         4          3  ...  3.296667  3.736667  322.666667   \n",
       "2        2         5          3  ...  2.443333  3.403333  400.333333   \n",
       "3        2         3          3  ...  2.603333  3.070000  411.333333   \n",
       "4        2         3          3  ...  3.083333  3.750000  612.000000   \n",
       "\n",
       "   FRS_score  FRS_outcome  outcome  follow_up_date  year_diff  \\\n",
       "0   0.092722            0        0    Not Provided          0   \n",
       "1   0.091211            0        0    Not Provided          0   \n",
       "2   0.345015            0        0    Not Provided          0   \n",
       "3   0.143090            0        0    Not Provided          0   \n",
       "4   0.105351            0        0    Not Provided          0   \n",
       "\n",
       "   FRS_score_coeff3  FRS_score_coeff3  \n",
       "0          0.028770          0.028770  \n",
       "1          0.028285          0.028285  \n",
       "2          0.119216          0.119216  \n",
       "3          0.045270          0.045270  \n",
       "4          0.032846          0.032846  \n",
       "\n",
       "[5 rows x 61 columns]"
      ]
     },
     "execution_count": 9,
     "metadata": {},
     "output_type": "execute_result"
    }
   ],
   "source": [
    "concatenated.head(5)"
   ]
  },
  {
   "cell_type": "markdown",
   "metadata": {},
   "source": [
    "## Compute FRS Performance"
   ]
  },
  {
   "cell_type": "code",
   "execution_count": 1,
   "metadata": {},
   "outputs": [],
   "source": [
    "import os\n",
    "import time\n",
    "import pandas as pd\n",
    "import joblib\n",
    "\n",
    "from sklearn.metrics import accuracy_score, roc_auc_score, confusion_matrix, classification_report\n",
    "\n",
    "def compute_cm(cm):\n",
    "  ppv = {}\n",
    "  npv = {}\n",
    "  sensitivity = {}\n",
    "  specificity = {}\n",
    "\n",
    "  # Calculate metrics for each class\n",
    "  for i in range(len(cm)):\n",
    "      TP = cm[i, i]\n",
    "      FP = cm[:, i].sum() - TP\n",
    "      FN = cm[i, :].sum() - TP\n",
    "      TN = cm.sum() - (TP + FP + FN)\n",
    "\n",
    "      ppv[i] = TP / (TP + FP) if (TP + FP) > 0 else 0  # Precision or Positive Predictive Value\n",
    "      npv[i] = TN / (TN + FN) if (TN + FN) > 0 else 0  # Negative Predictive Value\n",
    "      sensitivity[i] = TP / (TP + FN) if (TP + FN) > 0 else 0  # Recall or Sensitivity\n",
    "      specificity[i] = TN / (TN + FP) if (TN + FP) > 0 else 0  # Specificity\n",
    "\n",
    "  # Convert to DataFrame for better readability\n",
    "  metrics_df = pd.DataFrame({\n",
    "      'PPV': ppv,\n",
    "      'NPV': npv,\n",
    "      'Sensitivity': sensitivity,\n",
    "      'Specificity': specificity\n",
    "  })\n",
    "  return metrics_df\n",
    "\n",
    "def calculate_metrics(y_test, y_pred, y_prob, average='weighted'):\n",
    "    accuracy = accuracy_score(y_test, y_pred)\n",
    "    auc_score = roc_auc_score(y_test, y_prob, multi_class='ovr', average=average) if y_prob is not None else None\n",
    "    cm = confusion_matrix(y_test, y_pred)\n",
    "    report = classification_report(y_test, y_pred, output_dict=True, zero_division=0)\n",
    "    report_df = pd.DataFrame(report).transpose()\n",
    "    cm_df = pd.DataFrame(cm)\n",
    "    metrics_df = compute_cm(cm)\n",
    "    return accuracy, auc_score, cm_df, report_df, metrics_df\n",
    "\n",
    "def evaluate(pipeline_file, X_test, y_test, results_dir, results_file_prefix):\n",
    "    accuracy, auc_score, y_pred, y_prob = None, None, None, None\n",
    "    \n",
    "    if not os.path.exists(results_dir):\n",
    "        os.makedirs(results_dir)\n",
    "    if not os.path.exists(pipeline_file):\n",
    "        print('Presaved pipeline was not found')\n",
    "        return\n",
    "    else:\n",
    "        pipeline = joblib.load(pipeline_file)\n",
    "\n",
    "        start_time = time.time()\n",
    "        y_pred = pipeline.predict(X_test)\n",
    "        y_prob = pipeline.predict_proba(X_test) if hasattr(pipeline, \"predict_proba\") else None\n",
    "\n",
    "        # Calculate metrics\n",
    "        accuracy, auc_score, cm, report, metrics_df = calculate_metrics(y_test, y_pred, y_prob)\n",
    "\n",
    "        print(f'Accuracy: {accuracy}')\n",
    "        print(f'AUC: {auc_score}')\n",
    "        print(f'Time used for prediction(s): {time.time() - start_time}')\n",
    "\n",
    "        # Save cm image & CSV\n",
    "        cm.to_csv(os.path.join(results_dir, f'{results_file_prefix}_cm.csv'), index=True)\n",
    "        # Save classification report\n",
    "        report.to_csv(os.path.join(results_dir, f'{results_file_prefix}_class_report.csv'), index=True)\n",
    "\n",
    "\n",
    "        pd.DataFrame([accuracy, auc_score, time.time() - start_time], \n",
    "            columns=['results'], index=['Accuracy', 'AUC', 'Prediction Time']).to_csv(os.path.join(results_dir, f'{results_file_prefix}_acc_auc.csv'), index=True)\n",
    "        \n",
    "        metrics_df.to_csv(os.path.join(results_dir, f'{results_file_prefix}_metrics_summary.csv'), index=True)\n",
    "\n",
    "    return  accuracy, auc_score, cm, report, metrics_df, time.time()-start_time, y_pred, y_prob"
   ]
  },
  {
   "cell_type": "code",
   "execution_count": 2,
   "metadata": {},
   "outputs": [],
   "source": [
    "DATA_DIR = '/Users/malithidesilva/fyp'\n",
    "RESULT_DIR = '/Users/malithidesilva/fyp/model1'\n",
    "\n",
    "FRS_RESULTS_DIR = os.path.join(RESULT_DIR, 'frs_related')\n",
    "if not os.path.exists(FRS_RESULTS_DIR):\n",
    "    os.makedirs(FRS_RESULTS_DIR)"
   ]
  },
  {
   "cell_type": "code",
   "execution_count": 3,
   "metadata": {},
   "outputs": [
    {
     "name": "stdout",
     "output_type": "stream",
     "text": [
      "(1727, 1) (1727,) (1727,)\n"
     ]
    }
   ],
   "source": [
    "frs_data = joblib.load(os.path.join(RESULT_DIR, 'frs_data.pkl'))\n",
    "\n",
    "frs_prob=frs_data['X_test_frs']['FRS_score_coeff3'] # coefficient adjusted\n",
    "# frs_prob=frs_data['X_test_frs']['FRS_score'] # 10 years\n",
    "frs_pred=frs_data['X_test_frs']['FRS_outcome']\n",
    "\n",
    "data = joblib.load(os.path.join(RESULT_DIR, 'train_test_data.pkl'))\n",
    "\n",
    "y_test = pd.DataFrame(data['y_test'])\n",
    "\n",
    "y_test.loc[y_test['outcome'] > 0, 'outcome'] = 1\n",
    "\n",
    "print(y_test.shape, frs_pred.shape, frs_prob.shape)"
   ]
  },
  {
   "cell_type": "code",
   "execution_count": 4,
   "metadata": {},
   "outputs": [
    {
     "name": "stdout",
     "output_type": "stream",
     "text": [
      "Accuracy: 0.986682107701216\n",
      "AUC: 0.8343940155194551\n"
     ]
    }
   ],
   "source": [
    "accuracy, auc_score, cm, report, metrics_df = calculate_metrics(y_test, frs_pred, frs_prob)\n",
    "\n",
    "print(f'Accuracy: {accuracy}')\n",
    "print(f'AUC: {auc_score}')\n",
    "\n",
    "# Save cm image & CSV\n",
    "cm.to_csv(os.path.join(FRS_RESULTS_DIR, f'FRS_cm.csv'), index=True)\n",
    "# Save classification report\n",
    "report.to_csv(os.path.join(FRS_RESULTS_DIR, f'FRS_class_report.csv'), index=True)\n",
    "\n",
    "\n",
    "pd.DataFrame([accuracy, auc_score], \n",
    "    columns=['results'], index=['Accuracy', 'AUC']).to_csv(os.path.join(FRS_RESULTS_DIR, f'FRS_acc_auc.csv'), index=True)\n",
    "\n",
    "metrics_df.to_csv(os.path.join(FRS_RESULTS_DIR, f'FRS_metrics_summary.csv'), index=True)\n"
   ]
  }
 ],
 "metadata": {
  "kernelspec": {
   "display_name": "test_env",
   "language": "python",
   "name": "python3"
  },
  "language_info": {
   "codemirror_mode": {
    "name": "ipython",
    "version": 3
   },
   "file_extension": ".py",
   "mimetype": "text/x-python",
   "name": "python",
   "nbconvert_exporter": "python",
   "pygments_lexer": "ipython3",
   "version": "3.12.0"
  }
 },
 "nbformat": 4,
 "nbformat_minor": 2
}
